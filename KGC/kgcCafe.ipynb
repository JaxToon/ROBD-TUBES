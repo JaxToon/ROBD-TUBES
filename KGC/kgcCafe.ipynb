{
 "cells": [
  {
   "cell_type": "code",
   "execution_count": 1,
   "id": "77e6ffa1",
   "metadata": {},
   "outputs": [
    {
     "data": {
      "text/plain": [
       "True"
      ]
     },
     "execution_count": 1,
     "metadata": {},
     "output_type": "execute_result"
    }
   ],
   "source": [
    "import os\n",
    "import pandas as pd\n",
    "import json\n",
    "from dotenv import load_dotenv\n",
    "\n",
    "from neomodel import (\n",
    "    StructuredNode,\n",
    "    StringProperty,\n",
    "    IntegerProperty,\n",
    "    RelationshipTo,\n",
    ")\n",
    "\n",
    "load_dotenv()"
   ]
  },
  {
   "cell_type": "code",
   "execution_count": 2,
   "id": "0ea2aa62",
   "metadata": {},
   "outputs": [],
   "source": [
    "URI=os.getenv(\"NEO4J_URI\")\n",
    "USERNAME=os.getenv(\"NEO4J_USERNAME\")\n",
    "PASSWORD=os.getenv(\"NEO4J_PASSWORD\")"
   ]
  },
  {
   "cell_type": "code",
   "execution_count": 3,
   "id": "4203fb84",
   "metadata": {},
   "outputs": [],
   "source": [
    "franchise_df = pd.read_excel(\"cafe_graph_data.xlsx\", sheet_name=\"Franchise\")\n",
    "product_df = pd.read_excel(\"cafe_graph_data.xlsx\", sheet_name=\"Product\")\n",
    "daerah_df = pd.read_excel(\"cafe_graph_data.xlsx\", sheet_name=\"Daerah\")\n",
    "employee_df = pd.read_excel(\"cafe_graph_data.xlsx\", sheet_name=\"Employee\")"
   ]
  },
  {
   "cell_type": "code",
   "execution_count": null,
   "id": "51c27766",
   "metadata": {},
   "outputs": [],
   "source": [
    "class Daerah(StructuredNode):\n",
    "    id_cafe = StringProperty()\n",
    "    nama_daerah = StringProperty()\n",
    "    kecamatan = StringProperty()\n",
    "    kota = StringProperty()\n",
    "    kode_pos = StringProperty()\n",
    "\n",
    "class Franchise(StructuredNode):\n",
    "    id_cafe = StringProperty(unique_index=True)\n",
    "    name = StringProperty()\n",
    "    year = IntegerProperty()\n",
    "\n",
    "    # Relationships\n",
    "    is_located = RelationshipTo(\"Daerah\", \"IS_LOCATED\")\n",
    "    has_product = RelationshipTo(\"Product\", \"HAS_PRODUCT\")\n",
    "    has_employee = RelationshipTo(\"Employee\", \"HAS_EMPLOYEE\")\n",
    "\n",
    "class Product(StructuredNode):\n",
    "    id_product = StringProperty(unique_index=True)\n",
    "    name = StringProperty()\n",
    "    category = StringProperty()\n",
    "    price = IntegerProperty()\n",
    "\n",
    "class Employee(StructuredNode):\n",
    "    id_employee = StringProperty(unique_index=True) \n",
    "    name = StringProperty()\n",
    "    work_start_hour = StringProperty()\n",
    "    work_end_hour = StringProperty()\n",
    "    id_cafe = StringProperty()\n"
   ]
  },
  {
   "cell_type": "code",
   "execution_count": null,
   "id": "71a2d129",
   "metadata": {},
   "outputs": [
    {
     "name": "stderr",
     "output_type": "stream",
     "text": [
      "Received notification from DBMS server: {severity: WARNING} {code: Neo.ClientNotification.Statement.UnknownLabelWarning} {category: UNRECOGNIZED} {title: The provided label is not in the database.} {description: One of the labels in your query is not available in the database, make sure you didn't misspell it or that the label is available when you run this statement in your application (the missing label name is: Daerah)} {position: line: 1, column: 16, offset: 15} for query: ' MATCH (daerah:Daerah) WHERE daerah.id_cafe = $daerah_id_cafe_1 RETURN daerah LIMIT 2'\n",
      "Received notification from DBMS server: {severity: WARNING} {code: Neo.ClientNotification.Statement.UnknownPropertyKeyWarning} {category: UNRECOGNIZED} {title: The provided property key is not in the database} {description: One of the property names in your query is not available in the database, make sure you didn't misspell it or that the label is available when you run this statement in your application (the missing property name is: id_cafe)} {position: line: 1, column: 37, offset: 36} for query: ' MATCH (daerah:Daerah) WHERE daerah.id_cafe = $daerah_id_cafe_1 RETURN daerah LIMIT 2'\n",
      "Received notification from DBMS server: {severity: WARNING} {code: Neo.ClientNotification.Statement.UnknownLabelWarning} {category: UNRECOGNIZED} {title: The provided label is not in the database.} {description: One of the labels in your query is not available in the database, make sure you didn't misspell it or that the label is available when you run this statement in your application (the missing label name is: Product)} {position: line: 1, column: 17, offset: 16} for query: ' MATCH (product:Product) WHERE product.id_product = $product_id_product_1 RETURN product LIMIT 2'\n",
      "Received notification from DBMS server: {severity: WARNING} {code: Neo.ClientNotification.Statement.UnknownPropertyKeyWarning} {category: UNRECOGNIZED} {title: The provided property key is not in the database} {description: One of the property names in your query is not available in the database, make sure you didn't misspell it or that the label is available when you run this statement in your application (the missing property name is: id_product)} {position: line: 1, column: 40, offset: 39} for query: ' MATCH (product:Product) WHERE product.id_product = $product_id_product_1 RETURN product LIMIT 2'\n",
      "Received notification from DBMS server: {severity: WARNING} {code: Neo.ClientNotification.Statement.UnknownLabelWarning} {category: UNRECOGNIZED} {title: The provided label is not in the database.} {description: One of the labels in your query is not available in the database, make sure you didn't misspell it or that the label is available when you run this statement in your application (the missing label name is: Franchise)} {position: line: 1, column: 19, offset: 18} for query: ' MATCH (franchise:Franchise) WHERE franchise.id_cafe = $franchise_id_cafe_1 RETURN franchise LIMIT 2'\n",
      "Received notification from DBMS server: {severity: WARNING} {code: Neo.ClientNotification.Statement.UnknownLabelWarning} {category: UNRECOGNIZED} {title: The provided label is not in the database.} {description: One of the labels in your query is not available in the database, make sure you didn't misspell it or that the label is available when you run this statement in your application (the missing label name is: Employee)} {position: line: 1, column: 18, offset: 17} for query: ' MATCH (employee:Employee) WHERE employee.id_employee = $employee_id_employee_1 RETURN employee LIMIT 2'\n",
      "Received notification from DBMS server: {severity: WARNING} {code: Neo.ClientNotification.Statement.UnknownPropertyKeyWarning} {category: UNRECOGNIZED} {title: The provided property key is not in the database} {description: One of the property names in your query is not available in the database, make sure you didn't misspell it or that the label is available when you run this statement in your application (the missing property name is: id_employee)} {position: line: 1, column: 43, offset: 42} for query: ' MATCH (employee:Employee) WHERE employee.id_employee = $employee_id_employee_1 RETURN employee LIMIT 2'\n"
     ]
    }
   ],
   "source": [
    "for _, row in daerah_df.iterrows():\n",
    "    if not Daerah.nodes.get_or_none(id_cafe=row[\"id_cafe\"]):\n",
    "        Daerah(\n",
    "            id_cafe=row[\"id_cafe\"],\n",
    "            nama_daerah=row[\"nama_daerah\"],\n",
    "            kecamatan=row[\"kecamatan\"],\n",
    "            kota=row[\"kota\"],\n",
    "            kode_pos=row[\"kode_pos\"]\n",
    "        ).save()\n",
    "\n",
    "product_map = {}\n",
    "for _, row in product_df.iterrows():\n",
    "    required_columns = [\"id\", \"name\", \"category\", \"price\"]\n",
    "    if all(col in product_df.columns for col in required_columns):\n",
    "        product_id = row[\"id\"]\n",
    "        if not Product.nodes.get_or_none(id_product=product_id):\n",
    "            product = Product(\n",
    "                id_product=product_id,\n",
    "                name=row[\"name\"],\n",
    "                category=row[\"category\"],\n",
    "                price=row[\"price\"]\n",
    "            ).save()\n",
    "            product_map[product_id] = product\n",
    "    else:\n",
    "        print(f\"Skipping invalid product row: {row}\")\n",
    "\n",
    "for _, row in franchise_df.iterrows():\n",
    "    franchise_id = row[\"id_cafe\"]\n",
    "    if not Franchise.nodes.get_or_none(id_cafe=franchise_id):\n",
    "        Franchise(\n",
    "            id_cafe=franchise_id,\n",
    "            name=row[\"cafe_name\"],\n",
    "            year=row[\"year_established\"]\n",
    "        ).save()\n",
    "\n",
    "for _, row in employee_df.iterrows():\n",
    "    employee_id = row[\"id\"]\n",
    "    if not Employee.nodes.get_or_none(id_employee=employee_id):\n",
    "        Employee(\n",
    "            id_employee=employee_id,\n",
    "            name=row[\"name\"],\n",
    "            work_start_hour=row[\"work_start_hour\"],\n",
    "            work_end_hour=row[\"work_end_hour\"],\n",
    "            id_cafe=row[\"id_cafe\"]\n",
    "        ).save()\n",
    "\n"
   ]
  },
  {
   "cell_type": "code",
   "execution_count": null,
   "id": "2160923a",
   "metadata": {},
   "outputs": [
    {
     "name": "stderr",
     "output_type": "stream",
     "text": [
      "Received notification from DBMS server: {severity: WARNING} {code: Neo.ClientNotification.Statement.UnknownRelationshipTypeWarning} {category: UNRECOGNIZED} {title: The provided relationship type is not in the database.} {description: One of the relationship types in your query is not available in the database, make sure you didn't misspell it or that the label is available when you run this statement in your application (the missing relationship type is: IS_LOCATED)} {position: line: 1, column: 96, offset: 95} for query: 'MATCH (franchise) WHERE elementId(franchise)=$franchise_1 WITH franchise MATCH (franchise)-[r1:`IS_LOCATED`]->(is_located_r1:Daerah) WHERE elementId(is_located_r1) = $is_located_r1_contains_1 WITH is_located_r1 RETURN count(is_located_r1)'\n",
      "Received notification from DBMS server: {severity: WARNING} {code: Neo.ClientNotification.Statement.UnknownRelationshipTypeWarning} {category: UNRECOGNIZED} {title: The provided relationship type is not in the database.} {description: One of the relationship types in your query is not available in the database, make sure you didn't misspell it or that the label is available when you run this statement in your application (the missing relationship type is: HAS_EMPLOYEE)} {position: line: 1, column: 96, offset: 95} for query: 'MATCH (franchise) WHERE elementId(franchise)=$franchise_1 WITH franchise MATCH (franchise)-[r1:`HAS_EMPLOYEE`]->(has_employee_r1:Employee) WHERE elementId(has_employee_r1) = $has_employee_r1_contains_1 WITH has_employee_r1 RETURN count(has_employee_r1)'\n",
      "Received notification from DBMS server: {severity: WARNING} {code: Neo.ClientNotification.Statement.UnknownRelationshipTypeWarning} {category: UNRECOGNIZED} {title: The provided relationship type is not in the database.} {description: One of the relationship types in your query is not available in the database, make sure you didn't misspell it or that the label is available when you run this statement in your application (the missing relationship type is: HAS_PRODUCT)} {position: line: 1, column: 96, offset: 95} for query: 'MATCH (franchise) WHERE elementId(franchise)=$franchise_1 WITH franchise MATCH (franchise)-[r1:`HAS_PRODUCT`]->(has_product_r1:Product) WHERE elementId(has_product_r1) = $has_product_r1_contains_1 WITH has_product_r1 RETURN count(has_product_r1)'\n"
     ]
    },
    {
     "name": "stdout",
     "output_type": "stream",
     "text": [
      "Data imported successfully!\n"
     ]
    }
   ],
   "source": [
    "for franchise in Franchise.nodes.all():\n",
    "    daerah_node = Daerah.nodes.get(id_cafe=franchise.id_cafe)\n",
    "    if not franchise.is_located.is_connected(daerah_node):\n",
    "        franchise.is_located.connect(daerah_node)\n",
    "    \n",
    "    employees = Employee.nodes.filter(id_cafe=franchise.id_cafe)\n",
    "    for emp in employees:\n",
    "        if not franchise.has_employee.is_connected(emp):\n",
    "            franchise.has_employee.connect(emp)\n",
    "\n",
    "all_products = Product.nodes.all()\n",
    "for franchise in Franchise.nodes.all():\n",
    "    for prod in all_products:\n",
    "        if not franchise.has_product.is_connected(prod):\n",
    "            franchise.has_product.connect(prod)\n",
    "\n",
    "print(\"Data imported successfully!\")"
   ]
  }
 ],
 "metadata": {
  "kernelspec": {
   "display_name": "Python 3",
   "language": "python",
   "name": "python3"
  },
  "language_info": {
   "codemirror_mode": {
    "name": "ipython",
    "version": 3
   },
   "file_extension": ".py",
   "mimetype": "text/x-python",
   "name": "python",
   "nbconvert_exporter": "python",
   "pygments_lexer": "ipython3",
   "version": "3.11.8"
  }
 },
 "nbformat": 4,
 "nbformat_minor": 5
}
